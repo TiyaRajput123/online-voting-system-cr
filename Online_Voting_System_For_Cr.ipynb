{
 "cells": [
  {
   "cell_type": "code",
   "execution_count": 5,
   "id": "3daa681c-79d0-4732-a6b1-0d852bd304d6",
   "metadata": {},
   "outputs": [],
   "source": [
    "import pandas as pd\n",
    "import numpy as np\n",
    "from sklessing import LabelEncoder\n",
    "from sklearn.svm import SVC\n",
    "from sklearn.linear_model import LogisticRegression\n",
    "from sklearn.metrics imporearn.model_selection import train_test_split\n",
    "from sklearn.preprocessing import LabelEncoder\n",
    "from sklearn.svm import SVC\n",
    "from sklearn.metrics import accuracy_score, confusion_matrix, classification_report\n",
    "\n",
    "# Step 1: Import Libraries\n",
    "import pandas as pd\n",
    "import numpy as np\n",
    "from sklearn.model_selection import train_test_split\n",
    "from sklearn.preproct accuracy_score, confusion_matrix, classification_report\n",
    "\n",
    "import pandas as pd\n",
    "import numpy as np\n",
    "from sklearn.model_selection import train_test_split\n",
    "from sklearn.preprocessing import LabelEncoder\n",
    "from sklearn.naive_bayes import GaussianNB\n",
    "from sklearn.metrics import accuracy_score, confusion_matrix, classification_report\n",
    "\n",
    "import pandas as pd\n",
    "import numpy as np\n",
    "from sklearn.model_selection import train_test_split\n",
    "from sklearn.preprocessing import LabelEncoder\n",
    "from sklearn.ensemble import RandomForestClassifier\n",
    "from sklearn.metrics import accuracy_score, confusion_matrix, classification_report"
   ]
  },
  {
   "cell_type": "code",
   "execution_count": 6,
   "id": "f27d42e9-db80-41d4-bff7-5c19e268d779",
   "metadata": {},
   "outputs": [],
   "source": [
    "# Step 2: Load Data\n",
    "# Replace 'your_dataset.csv' with your actual CSV file path\n",
    "df = pd.read_csv('C:/Users/hp/OneDrive/Desktop/DataSet1_final.csv')\n",
    "\n",
    "# Step 3: Preprocess Data\n",
    "# Handle missing values if any\n",
    "# df.fillna(method='ffill', inplace=True)"
   ]
  },
  {
   "cell_type": "code",
   "execution_count": 7,
   "id": "b9d80edc-0dc9-4b88-83b9-30a952af6ada",
   "metadata": {},
   "outputs": [],
   "source": [
    "# # Encode categorical features if any\n",
    "# label_encoders = {}\n",
    "# for column in df.select_dtypes(include=['object']).columns:\n",
    "#     label_encoders[column] = LabelEncoder()\n",
    "# df[column] = label_encoders[column].fit_transform(df[column])"
   ]
  },
  {
   "cell_type": "code",
   "execution_count": 8,
   "id": "b77e073f-7061-472d-a48f-f952c5fb82ca",
   "metadata": {},
   "outputs": [],
   "source": [
    "# # Split the dataset into features and target variable\n",
    "# # Replace 'target_column' with your actual target column name\n",
    "\n",
    "\n",
    "# X = df.drop('LeadershipQuality', axis=1)\n",
    "\n",
    "\n",
    "# y = df['LeadershipQuality']"
   ]
  },
  {
   "cell_type": "code",
   "execution_count": 9,
   "id": "19c7ac74-928c-41cc-84f3-438de0ef258d",
   "metadata": {},
   "outputs": [],
   "source": [
    "\n",
    "# # Split the dataset into training and testing sets\n",
    "# X_train, X_test, y_train, y_test = train_test_split(X, y, test_size=0.2, random_state=42)"
   ]
  },
  {
   "cell_type": "code",
   "execution_count": 10,
   "id": "5f38a7c5-9c71-4bea-be3a-a705e070f824",
   "metadata": {},
   "outputs": [],
   "source": [
    "# Drop irrelevant columns\n",
    "df = df.drop(['Name', 'Student Id', 'Timestamp'], axis=1, errors='ignore')  # Use actual column names\n",
    "\n",
    "# Label encode categorical columns (e.g., Gender, Branch)\n",
    "label_encoders = {}\n",
    "for column in df.select_dtypes(include='object').columns:\n",
    "    if column != 'LeadershipQuality':\n",
    "        le = LabelEncoder()\n",
    "        df[column] = le.fit_transform(df[column])\n",
    "        label_encoders[column] = le\n",
    "\n",
    "# Encode the target column\n",
    "df['LeadershipQuality'] = LabelEncoder().fit_transform(df['LeadershipQuality'])\n",
    "\n",
    "# Split features and target\n",
    "X = df.drop('LeadershipQuality', axis=1)\n",
    "y = df['LeadershipQuality']\n",
    "\n",
    "# Train-test split\n",
    "X_train, X_test, y_train, y_test = train_test_split(X, y, test_size=0.2, random_state=42)\n"
   ]
  },
  {
   "cell_type": "code",
   "execution_count": 11,
   "id": "2dd54465-d7b9-458a-808d-f673d124ab18",
   "metadata": {},
   "outputs": [],
   "source": [
    "# Step 4: Train Model\n",
    "model = SVC()\n",
    "model.fit(X_train, y_train)\n",
    "\n",
    "# Step 5: Make Predictions\n",
    "y_pred = model.predict(X_test)"
   ]
  },
  {
   "cell_type": "code",
   "execution_count": 12,
   "id": "079f1d1a-1b16-473f-8576-e498783d27ee",
   "metadata": {},
   "outputs": [
    {
     "name": "stdout",
     "output_type": "stream",
     "text": [
      "Accuracy: 0.9469026548672567\n",
      "Confusion Matrix:\n",
      "[[75  0]\n",
      " [ 6 32]]\n",
      "Classification Report:\n",
      "              precision    recall  f1-score   support\n",
      "\n",
      "           0       0.93      1.00      0.96        75\n",
      "           1       1.00      0.84      0.91        38\n",
      "\n",
      "    accuracy                           0.95       113\n",
      "   macro avg       0.96      0.92      0.94       113\n",
      "weighted avg       0.95      0.95      0.95       113\n",
      "\n"
     ]
    }
   ],
   "source": [
    "\n",
    "# Step 6: Evaluate Model\n",
    "accuracy = accuracy_score(y_test, y_pred)\n",
    "conf_matrix = confusion_matrix(y_test, y_pred)\n",
    "class_report = classification_report(y_test, y_pred)\n",
    "\n",
    "print(f'Accuracy: {accuracy}')\n",
    "print('Confusion Matrix:')\n",
    "print(conf_matrix)\n",
    "print('Classification Report:')\n",
    "print(class_report)"
   ]
  },
  {
   "cell_type": "code",
   "execution_count": 13,
   "id": "6667985e-f810-46df-aa35-560c2408ccd6",
   "metadata": {},
   "outputs": [],
   "source": [
    "model =  LogisticRegression()\n",
    "model.fit(X_train, y_train)\n",
    "\n",
    "# Step 5: Make Predictions\n",
    "y_pred = model.predict(X_test)"
   ]
  },
  {
   "cell_type": "code",
   "execution_count": 14,
   "id": "9caa3882-3a23-4265-8bb1-8ea23c1aa3aa",
   "metadata": {},
   "outputs": [
    {
     "name": "stdout",
     "output_type": "stream",
     "text": [
      "Accuracy: 0.9911504424778761\n",
      "Confusion Matrix:\n",
      "[[75  0]\n",
      " [ 1 37]]\n",
      "Classification Report:\n",
      "              precision    recall  f1-score   support\n",
      "\n",
      "           0       0.99      1.00      0.99        75\n",
      "           1       1.00      0.97      0.99        38\n",
      "\n",
      "    accuracy                           0.99       113\n",
      "   macro avg       0.99      0.99      0.99       113\n",
      "weighted avg       0.99      0.99      0.99       113\n",
      "\n"
     ]
    }
   ],
   "source": [
    "# Step 6: Evaluate Model\n",
    "accuracy = accuracy_score(y_test, y_pred)\n",
    "conf_matrix = confusion_matrix(y_test, y_pred)\n",
    "class_report = classification_report(y_test, y_pred)\n",
    "\n",
    "print(f'Accuracy: {accuracy}')\n",
    "print('Confusion Matrix:')\n",
    "print(conf_matrix)\n",
    "print('Classification Report:')\n",
    "print(class_report)"
   ]
  },
  {
   "cell_type": "code",
   "execution_count": 15,
   "id": "e86e2404-8b12-4759-96c3-dc14e72454ff",
   "metadata": {},
   "outputs": [
    {
     "name": "stdout",
     "output_type": "stream",
     "text": [
      "Accuracy: 0.9911504424778761\n",
      "Confusion Matrix:\n",
      "[[75  0]\n",
      " [ 1 37]]\n",
      "Classification Report:\n",
      "              precision    recall  f1-score   support\n",
      "\n",
      "           0       0.99      1.00      0.99        75\n",
      "           1       1.00      0.97      0.99        38\n",
      "\n",
      "    accuracy                           0.99       113\n",
      "   macro avg       0.99      0.99      0.99       113\n",
      "weighted avg       0.99      0.99      0.99       113\n",
      "\n"
     ]
    }
   ],
   "source": [
    "accuracy = accuracy_score(y_test, y_pred)\n",
    "conf_matrix = confusion_matrix(y_test, y_pred)\n",
    "class_report = classification_report(y_test, y_pred)\n",
    "\n",
    "print(f'Accuracy: {accuracy}')\n",
    "print('Confusion Matrix:')\n",
    "print(conf_matrix)\n",
    "print('Classification Report:')\n",
    "print(class_report)"
   ]
  },
  {
   "cell_type": "code",
   "execution_count": 16,
   "id": "bd63fc20-d9f1-4e50-a6ec-095af6d81ae0",
   "metadata": {},
   "outputs": [],
   "source": [
    "# Step 4: Train Model\n",
    "model = GaussianNB()\n",
    "model.fit(X_train, y_train)\n",
    "\n",
    "y_pred = model.predict(X_test)"
   ]
  },
  {
   "cell_type": "code",
   "execution_count": 17,
   "id": "7ed47c37-b796-42b4-ae23-b276fa272f6f",
   "metadata": {},
   "outputs": [],
   "source": [
    "# Step 4: Train Model\n",
    "model = RandomForestClassifier()\n",
    "model.fit(X_train, y_train)\n",
    "\n",
    "# Step 5: Make Predictions\n",
    "y_pred = model.predict(X_test)"
   ]
  },
  {
   "cell_type": "code",
   "execution_count": 18,
   "id": "aedb0b98-3039-4a61-92f3-781fb4eccfcf",
   "metadata": {},
   "outputs": [
    {
     "name": "stdout",
     "output_type": "stream",
     "text": [
      "Accuracy: 0.8938053097345132\n",
      "Confusion Matrix:\n",
      "[[70  5]\n",
      " [ 7 31]]\n",
      "Classification Report:\n",
      "              precision    recall  f1-score   support\n",
      "\n",
      "           0       0.91      0.93      0.92        75\n",
      "           1       0.86      0.82      0.84        38\n",
      "\n",
      "    accuracy                           0.89       113\n",
      "   macro avg       0.89      0.87      0.88       113\n",
      "weighted avg       0.89      0.89      0.89       113\n",
      "\n"
     ]
    }
   ],
   "source": [
    "accuracy = accuracy_score(y_test, y_pred)\n",
    "conf_matrix = confusion_matrix(y_test, y_pred)\n",
    "class_report = classification_report(y_test, y_pred)\n",
    "\n",
    "print(f'Accuracy: {accuracy}')\n",
    "print('Confusion Matrix:')\n",
    "print(conf_matrix)\n",
    "print('Classification Report:')\n",
    "print(class_report)"
   ]
  }
 ],
 "metadata": {
  "kernelspec": {
   "display_name": "Python 3 (ipykernel)",
   "language": "python",
   "name": "python3"
  },
  "language_info": {
   "codemirror_mode": {
    "name": "ipython",
    "version": 3
   },
   "file_extension": ".py",
   "mimetype": "text/x-python",
   "name": "python",
   "nbconvert_exporter": "python",
   "pygments_lexer": "ipython3",
   "version": "3.11.7"
  }
 },
 "nbformat": 4,
 "nbformat_minor": 5
}
